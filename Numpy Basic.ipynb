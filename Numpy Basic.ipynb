{
 "cells": [
  {
   "cell_type": "code",
   "execution_count": 1,
   "id": "1c611c98",
   "metadata": {},
   "outputs": [],
   "source": [
    "import numpy as np"
   ]
  },
  {
   "cell_type": "code",
   "execution_count": 5,
   "id": "9a22a44c",
   "metadata": {},
   "outputs": [],
   "source": [
    "a = np.array([2,4,6,8])\n",
    "a_list = [2,4,6,8]"
   ]
  },
  {
   "cell_type": "code",
   "execution_count": 6,
   "id": "359b68fc",
   "metadata": {},
   "outputs": [
    {
     "data": {
      "text/plain": [
       "numpy.ndarray"
      ]
     },
     "execution_count": 6,
     "metadata": {},
     "output_type": "execute_result"
    }
   ],
   "source": [
    "type(a)"
   ]
  },
  {
   "cell_type": "code",
   "execution_count": 7,
   "id": "676bc7d1",
   "metadata": {},
   "outputs": [
    {
     "data": {
      "text/plain": [
       "list"
      ]
     },
     "execution_count": 7,
     "metadata": {},
     "output_type": "execute_result"
    }
   ],
   "source": [
    "type(a_list)"
   ]
  },
  {
   "cell_type": "code",
   "execution_count": 18,
   "id": "844964b9",
   "metadata": {},
   "outputs": [
    {
     "name": "stdout",
     "output_type": "stream",
     "text": [
      "[1. 2. 3. 4.]\n"
     ]
    }
   ],
   "source": [
    "print(a/2)"
   ]
  },
  {
   "cell_type": "code",
   "execution_count": 17,
   "id": "004e4d8d",
   "metadata": {},
   "outputs": [
    {
     "ename": "TypeError",
     "evalue": "unsupported operand type(s) for /: 'list' and 'int'",
     "output_type": "error",
     "traceback": [
      "\u001b[1;31m---------------------------------------------------------------------------\u001b[0m",
      "\u001b[1;31mTypeError\u001b[0m                                 Traceback (most recent call last)",
      "\u001b[1;32m~\\AppData\\Local\\Temp/ipykernel_27464/8404782.py\u001b[0m in \u001b[0;36m<module>\u001b[1;34m\u001b[0m\n\u001b[1;32m----> 1\u001b[1;33m \u001b[0mprint\u001b[0m\u001b[1;33m(\u001b[0m\u001b[0ma_list\u001b[0m\u001b[1;33m/\u001b[0m\u001b[1;36m2\u001b[0m\u001b[1;33m)\u001b[0m\u001b[1;33m\u001b[0m\u001b[1;33m\u001b[0m\u001b[0m\n\u001b[0m",
      "\u001b[1;31mTypeError\u001b[0m: unsupported operand type(s) for /: 'list' and 'int'"
     ]
    }
   ],
   "source": [
    "print(a_list/2)"
   ]
  },
  {
   "cell_type": "code",
   "execution_count": 13,
   "id": "b6ccc242",
   "metadata": {},
   "outputs": [],
   "source": [
    "for i in range(0, len(a_list)):\n",
    "    a_list[i] = a_list[i]/2"
   ]
  },
  {
   "cell_type": "code",
   "execution_count": 14,
   "id": "e67e3538",
   "metadata": {},
   "outputs": [
    {
     "data": {
      "text/plain": [
       "[1.0, 2.0, 3.0, 4.0]"
      ]
     },
     "execution_count": 14,
     "metadata": {},
     "output_type": "execute_result"
    }
   ],
   "source": [
    "a_list"
   ]
  },
  {
   "cell_type": "code",
   "execution_count": 19,
   "id": "613f64a3",
   "metadata": {},
   "outputs": [
    {
     "name": "stdout",
     "output_type": "stream",
     "text": [
      "[2 4 6 8]\n"
     ]
    }
   ],
   "source": [
    "print(a)"
   ]
  },
  {
   "cell_type": "code",
   "execution_count": 61,
   "id": "fbed2a36",
   "metadata": {},
   "outputs": [],
   "source": [
    "b = np.array([ [1,2,3], [4,5,6] ])"
   ]
  },
  {
   "cell_type": "code",
   "execution_count": 55,
   "id": "fbe3548f",
   "metadata": {},
   "outputs": [
    {
     "name": "stdout",
     "output_type": "stream",
     "text": [
      "[[1 2 3]\n",
      " [4 5 6]]\n"
     ]
    }
   ],
   "source": [
    "print(b)"
   ]
  },
  {
   "cell_type": "code",
   "execution_count": 25,
   "id": "d9735ea8",
   "metadata": {},
   "outputs": [
    {
     "data": {
      "text/plain": [
       "(4, 6)"
      ]
     },
     "execution_count": 25,
     "metadata": {},
     "output_type": "execute_result"
    }
   ],
   "source": [
    "a[1], a[2]"
   ]
  },
  {
   "cell_type": "code",
   "execution_count": 29,
   "id": "09cba029",
   "metadata": {},
   "outputs": [
    {
     "data": {
      "text/plain": [
       "(2, 4)"
      ]
     },
     "execution_count": 29,
     "metadata": {},
     "output_type": "execute_result"
    }
   ],
   "source": [
    "b[0][1], b[1][0]"
   ]
  },
  {
   "cell_type": "code",
   "execution_count": 31,
   "id": "aa5f54ba",
   "metadata": {},
   "outputs": [
    {
     "data": {
      "text/plain": [
       "(2, 4)"
      ]
     },
     "execution_count": 31,
     "metadata": {},
     "output_type": "execute_result"
    }
   ],
   "source": [
    "b[0,1], b[1,0]"
   ]
  },
  {
   "cell_type": "code",
   "execution_count": 32,
   "id": "b1beb77b",
   "metadata": {},
   "outputs": [
    {
     "data": {
      "text/plain": [
       "3"
      ]
     },
     "execution_count": 32,
     "metadata": {},
     "output_type": "execute_result"
    }
   ],
   "source": [
    "b[0,2]"
   ]
  },
  {
   "cell_type": "code",
   "execution_count": 33,
   "id": "a4d70908",
   "metadata": {},
   "outputs": [
    {
     "data": {
      "text/plain": [
       "array([2, 4, 6, 8])"
      ]
     },
     "execution_count": 33,
     "metadata": {},
     "output_type": "execute_result"
    }
   ],
   "source": [
    "a"
   ]
  },
  {
   "cell_type": "code",
   "execution_count": 44,
   "id": "f8f8c836",
   "metadata": {},
   "outputs": [],
   "source": [
    "a = np.append(a, 2)"
   ]
  },
  {
   "cell_type": "code",
   "execution_count": 43,
   "id": "69821713",
   "metadata": {},
   "outputs": [],
   "source": [
    "a = np.append(a, 3)"
   ]
  },
  {
   "cell_type": "code",
   "execution_count": 45,
   "id": "f6acd9ea",
   "metadata": {},
   "outputs": [
    {
     "data": {
      "text/plain": [
       "array([2, 4, 6, 8, 3, 2])"
      ]
     },
     "execution_count": 45,
     "metadata": {},
     "output_type": "execute_result"
    }
   ],
   "source": [
    "a"
   ]
  },
  {
   "cell_type": "code",
   "execution_count": 48,
   "id": "f85260f4",
   "metadata": {},
   "outputs": [
    {
     "data": {
      "text/plain": [
       "array([6, 8, 3, 2])"
      ]
     },
     "execution_count": 48,
     "metadata": {},
     "output_type": "execute_result"
    }
   ],
   "source": [
    "a[2:9] #6,8,3,2 | 6,2 | "
   ]
  },
  {
   "cell_type": "code",
   "execution_count": 49,
   "id": "b800f5cf",
   "metadata": {},
   "outputs": [
    {
     "name": "stdout",
     "output_type": "stream",
     "text": [
      "[[1 2 3]\n",
      " [4 5 6]]\n"
     ]
    }
   ],
   "source": [
    "print(b)"
   ]
  },
  {
   "cell_type": "code",
   "execution_count": 66,
   "id": "28ec5e4a",
   "metadata": {},
   "outputs": [],
   "source": [
    "c = np.array([[1,2,3], [2,3,5], [10,8,6], [4,11,17] ])"
   ]
  },
  {
   "cell_type": "code",
   "execution_count": 67,
   "id": "a0417fc7",
   "metadata": {},
   "outputs": [
    {
     "data": {
      "text/plain": [
       "array([[ 1,  2,  3],\n",
       "       [ 2,  3,  5],\n",
       "       [10,  8,  6],\n",
       "       [ 4, 11, 17]])"
      ]
     },
     "execution_count": 67,
     "metadata": {},
     "output_type": "execute_result"
    }
   ],
   "source": [
    "c "
   ]
  },
  {
   "cell_type": "code",
   "execution_count": 68,
   "id": "c97fc0a7",
   "metadata": {},
   "outputs": [
    {
     "data": {
      "text/plain": [
       "array([[ 1,  2,  3],\n",
       "       [ 2,  3,  5],\n",
       "       [10,  8,  6]])"
      ]
     },
     "execution_count": 68,
     "metadata": {},
     "output_type": "execute_result"
    }
   ],
   "source": [
    "c[:3] #10,8, 6 | [1,2,3], [2,3,5], [10,8,6] |"
   ]
  },
  {
   "cell_type": "code",
   "execution_count": 69,
   "id": "7c73b394",
   "metadata": {},
   "outputs": [
    {
     "data": {
      "text/plain": [
       "array([3, 5])"
      ]
     },
     "execution_count": 69,
     "metadata": {},
     "output_type": "execute_result"
    }
   ],
   "source": [
    "c[:2, 2] #[1,2,3], [2,3,5] | [3,4] |[3,5]"
   ]
  },
  {
   "cell_type": "code",
   "execution_count": 74,
   "id": "45cdd018",
   "metadata": {},
   "outputs": [
    {
     "name": "stdout",
     "output_type": "stream",
     "text": [
      "[3 5]\n"
     ]
    }
   ],
   "source": [
    "print(c[:2, 2])"
   ]
  },
  {
   "cell_type": "code",
   "execution_count": 78,
   "id": "ca8656ab",
   "metadata": {},
   "outputs": [],
   "source": [
    "d = c.tolist()"
   ]
  },
  {
   "cell_type": "code",
   "execution_count": 79,
   "id": "99f845d0",
   "metadata": {},
   "outputs": [
    {
     "data": {
      "text/plain": [
       "([[1, 2, 3], [2, 3, 5], [10, 8, 6], [4, 11, 17]], list)"
      ]
     },
     "execution_count": 79,
     "metadata": {},
     "output_type": "execute_result"
    }
   ],
   "source": [
    "d, type(d)"
   ]
  },
  {
   "cell_type": "code",
   "execution_count": 80,
   "id": "4e766b6a",
   "metadata": {},
   "outputs": [
    {
     "data": {
      "text/plain": [
       "[[1, 2, 3], [2, 3, 5], [10, 8, 6], [4, 11, 17]]"
      ]
     },
     "execution_count": 80,
     "metadata": {},
     "output_type": "execute_result"
    }
   ],
   "source": [
    "d "
   ]
  },
  {
   "cell_type": "code",
   "execution_count": 81,
   "id": "fa9afa9a",
   "metadata": {},
   "outputs": [],
   "source": [
    "d = np.array(d)"
   ]
  },
  {
   "cell_type": "code",
   "execution_count": 82,
   "id": "97144725",
   "metadata": {},
   "outputs": [
    {
     "data": {
      "text/plain": [
       "array([[ 1,  2,  3],\n",
       "       [ 2,  3,  5],\n",
       "       [10,  8,  6],\n",
       "       [ 4, 11, 17]])"
      ]
     },
     "execution_count": 82,
     "metadata": {},
     "output_type": "execute_result"
    }
   ],
   "source": [
    "d"
   ]
  },
  {
   "cell_type": "code",
   "execution_count": 84,
   "id": "ab5ead2c",
   "metadata": {},
   "outputs": [
    {
     "data": {
      "text/plain": [
       "2"
      ]
     },
     "execution_count": 84,
     "metadata": {},
     "output_type": "execute_result"
    }
   ],
   "source": [
    "d.ndim"
   ]
  },
  {
   "cell_type": "code",
   "execution_count": 85,
   "id": "5fa866f3",
   "metadata": {},
   "outputs": [],
   "source": [
    "a = np.array([2,4,6,8])"
   ]
  },
  {
   "cell_type": "code",
   "execution_count": 86,
   "id": "27ff0b96",
   "metadata": {},
   "outputs": [
    {
     "data": {
      "text/plain": [
       "1"
      ]
     },
     "execution_count": 86,
     "metadata": {},
     "output_type": "execute_result"
    }
   ],
   "source": [
    "a.ndim"
   ]
  },
  {
   "cell_type": "code",
   "execution_count": 87,
   "id": "46de2932",
   "metadata": {},
   "outputs": [
    {
     "data": {
      "text/plain": [
       "4"
      ]
     },
     "execution_count": 87,
     "metadata": {},
     "output_type": "execute_result"
    }
   ],
   "source": [
    "a.size"
   ]
  },
  {
   "cell_type": "code",
   "execution_count": 88,
   "id": "5c97c3f8",
   "metadata": {},
   "outputs": [
    {
     "data": {
      "text/plain": [
       "12"
      ]
     },
     "execution_count": 88,
     "metadata": {},
     "output_type": "execute_result"
    }
   ],
   "source": [
    "d.size"
   ]
  },
  {
   "cell_type": "code",
   "execution_count": 89,
   "id": "a2fc04d9",
   "metadata": {},
   "outputs": [
    {
     "data": {
      "text/plain": [
       "(4,)"
      ]
     },
     "execution_count": 89,
     "metadata": {},
     "output_type": "execute_result"
    }
   ],
   "source": [
    "a.shape"
   ]
  },
  {
   "cell_type": "code",
   "execution_count": 90,
   "id": "44fa48c6",
   "metadata": {},
   "outputs": [
    {
     "data": {
      "text/plain": [
       "(4, 3)"
      ]
     },
     "execution_count": 90,
     "metadata": {},
     "output_type": "execute_result"
    }
   ],
   "source": [
    "d.shape"
   ]
  },
  {
   "cell_type": "markdown",
   "id": "644ae153",
   "metadata": {},
   "source": [
    "## Operasi pada Array (Matrix)"
   ]
  },
  {
   "cell_type": "code",
   "execution_count": 97,
   "id": "27ff9445",
   "metadata": {},
   "outputs": [
    {
     "name": "stdout",
     "output_type": "stream",
     "text": [
      "[[ 1  2  3]\n",
      " [ 2  3  5]\n",
      " [10  8  6]\n",
      " [ 4 11 17]] \n",
      " (4, 3)\n"
     ]
    }
   ],
   "source": [
    "print(d,  '\\n' , d.shape)"
   ]
  },
  {
   "cell_type": "code",
   "execution_count": 102,
   "id": "62780e26",
   "metadata": {},
   "outputs": [
    {
     "name": "stdout",
     "output_type": "stream",
     "text": [
      "[[10  8 13]\n",
      " [ 1  4  7]\n",
      " [31 23 10]\n",
      " [ 1  2  3]] (4, 3)\n"
     ]
    }
   ],
   "source": [
    "b = np.array([[10,8,13], [1,4,7], [31,23,10], [1,2,3]])\n",
    "print(b, b.shape)"
   ]
  },
  {
   "cell_type": "code",
   "execution_count": 111,
   "id": "a94526b5",
   "metadata": {},
   "outputs": [
    {
     "name": "stdout",
     "output_type": "stream",
     "text": [
      "[[ 1  2  3]\n",
      " [ 2  3  5]\n",
      " [10  8  6]\n",
      " [ 4 11 17]] \n",
      "\n",
      " * \n",
      "\n",
      " [[10  8 13]\n",
      " [ 1  4  7]\n",
      " [31 23 10]\n",
      " [ 1  2  3]] =\n"
     ]
    }
   ],
   "source": [
    "print(f\"{d} \\n\\n * \\n\\n {b} =\")"
   ]
  },
  {
   "cell_type": "code",
   "execution_count": 105,
   "id": "b0f09942",
   "metadata": {},
   "outputs": [
    {
     "name": "stdout",
     "output_type": "stream",
     "text": [
      "[[ 10  16  39]\n",
      " [  2  12  35]\n",
      " [310 184  60]\n",
      " [  4  22  51]]\n"
     ]
    }
   ],
   "source": [
    "print(d*b)"
   ]
  },
  {
   "cell_type": "code",
   "execution_count": 116,
   "id": "6636c0ff",
   "metadata": {},
   "outputs": [
    {
     "name": "stdout",
     "output_type": "stream",
     "text": [
      "[[10  8 13]\n",
      " [ 1  4  7]\n",
      " [31 23 10]\n",
      " [ 1  2  3]] (4, 3)\n"
     ]
    }
   ],
   "source": [
    "print(b, b.shape)"
   ]
  },
  {
   "cell_type": "code",
   "execution_count": 123,
   "id": "50fac971",
   "metadata": {},
   "outputs": [
    {
     "name": "stdout",
     "output_type": "stream",
     "text": [
      "[[1 2]\n",
      " [4 5]] \n",
      " (2, 2)\n"
     ]
    }
   ],
   "source": [
    "a = np.array([ [1,2], [4,5] ])\n",
    "print(a, '\\n' , a.shape)"
   ]
  },
  {
   "cell_type": "code",
   "execution_count": 114,
   "id": "fb34e0c7",
   "metadata": {},
   "outputs": [
    {
     "name": "stdout",
     "output_type": "stream",
     "text": [
      "[[133 177]\n",
      " [ 66  85]\n",
      " [193 267]\n",
      " [ 30  39]]\n"
     ]
    }
   ],
   "source": [
    "print(np.matmul(b,a))"
   ]
  },
  {
   "cell_type": "code",
   "execution_count": 119,
   "id": "ebfefb69",
   "metadata": {},
   "outputs": [
    {
     "name": "stdout",
     "output_type": "stream",
     "text": [
      "[[133 177]\n",
      " [ 66  85]\n",
      " [193 267]\n",
      " [ 30  39]]\n"
     ]
    }
   ],
   "source": [
    "try:\n",
    "    e = np.matmul(b,a)\n",
    "    print(e)\n",
    "except:\n",
    "    print(\"Dimensi tidak benar, n!= p\")\n"
   ]
  },
  {
   "cell_type": "code",
   "execution_count": 120,
   "id": "4a7a99cd",
   "metadata": {},
   "outputs": [
    {
     "name": "stdout",
     "output_type": "stream",
     "text": [
      "banyaknya entry =  6\n",
      "dimensi array =  2\n",
      "ukuran array =  (3, 2)\n"
     ]
    }
   ],
   "source": [
    "print('banyaknya entry = ', a.size)\n",
    "print('dimensi array = ', a.ndim)\n",
    "print('ukuran array = ', a.shape)"
   ]
  },
  {
   "cell_type": "code",
   "execution_count": 126,
   "id": "bcf3d9b8",
   "metadata": {},
   "outputs": [
    {
     "name": "stdout",
     "output_type": "stream",
     "text": [
      "Determinan Matriks a =  -2.9999999999999996\n"
     ]
    }
   ],
   "source": [
    "print(\"Determinan Matriks a = \", np.linalg.det(a))"
   ]
  },
  {
   "cell_type": "code",
   "execution_count": 128,
   "id": "caab6b74",
   "metadata": {},
   "outputs": [
    {
     "name": "stdout",
     "output_type": "stream",
     "text": [
      "Invers Matriks a = \n",
      " [[-1.66666667  0.66666667]\n",
      " [ 1.33333333 -0.33333333]]\n"
     ]
    }
   ],
   "source": [
    "print(\"Invers Matriks a = \\n\", np.linalg.inv(a))"
   ]
  },
  {
   "cell_type": "code",
   "execution_count": 130,
   "id": "3c8b5021",
   "metadata": {},
   "outputs": [],
   "source": [
    "eig_val, eig_vecs = np.linalg.eig(a)"
   ]
  },
  {
   "cell_type": "code",
   "execution_count": 141,
   "id": "d3beeeef",
   "metadata": {},
   "outputs": [
    {
     "data": {
      "text/plain": [
       "-0.4641016151377544"
      ]
     },
     "execution_count": 141,
     "metadata": {},
     "output_type": "execute_result"
    }
   ],
   "source": [
    "eig_val_1 = eig_val[0]\n",
    "eig_val_1.real"
   ]
  },
  {
   "cell_type": "code",
   "execution_count": 142,
   "id": "3ea6c96a",
   "metadata": {},
   "outputs": [
    {
     "data": {
      "text/plain": [
       "array([[-0.80689822, -0.34372377],\n",
       "       [ 0.59069049, -0.9390708 ]])"
      ]
     },
     "execution_count": 142,
     "metadata": {},
     "output_type": "execute_result"
    }
   ],
   "source": [
    "eig_vecs"
   ]
  },
  {
   "cell_type": "code",
   "execution_count": 143,
   "id": "75b950ba",
   "metadata": {},
   "outputs": [
    {
     "data": {
      "text/plain": [
       "array([[ 0.37448277, -2.22186537],\n",
       "       [-0.27414041, -6.07024909]])"
      ]
     },
     "execution_count": 143,
     "metadata": {},
     "output_type": "execute_result"
    }
   ],
   "source": [
    "np.matmul(a,eig_vecs)"
   ]
  },
  {
   "cell_type": "code",
   "execution_count": 147,
   "id": "01f78af9",
   "metadata": {},
   "outputs": [
    {
     "data": {
      "text/plain": [
       "array([[1, 2],\n",
       "       [4, 5]])"
      ]
     },
     "execution_count": 147,
     "metadata": {},
     "output_type": "execute_result"
    }
   ],
   "source": [
    "a"
   ]
  },
  {
   "cell_type": "code",
   "execution_count": 131,
   "id": "791faa35",
   "metadata": {},
   "outputs": [
    {
     "data": {
      "text/plain": [
       "array([-0.46410162,  6.46410162])"
      ]
     },
     "execution_count": 131,
     "metadata": {},
     "output_type": "execute_result"
    }
   ],
   "source": [
    "eig_val"
   ]
  },
  {
   "cell_type": "code",
   "execution_count": 144,
   "id": "1fa91231",
   "metadata": {},
   "outputs": [
    {
     "data": {
      "text/plain": [
       "array([[ 0.37448277,  0.15952276],\n",
       "       [-0.27414041,  0.43582428]])"
      ]
     },
     "execution_count": 144,
     "metadata": {},
     "output_type": "execute_result"
    }
   ],
   "source": [
    "(eig_val_1 * eig_vecs)"
   ]
  },
  {
   "cell_type": "code",
   "execution_count": 146,
   "id": "980cbab5",
   "metadata": {},
   "outputs": [
    {
     "data": {
      "text/plain": [
       "array([[-5.2158721 , -2.22186537],\n",
       "       [ 3.81828338, -6.07024909]])"
      ]
     },
     "execution_count": 146,
     "metadata": {},
     "output_type": "execute_result"
    }
   ],
   "source": [
    "eig_val[1] * eig_vecs"
   ]
  },
  {
   "cell_type": "code",
   "execution_count": null,
   "id": "dea45e8f",
   "metadata": {},
   "outputs": [],
   "source": []
  }
 ],
 "metadata": {
  "kernelspec": {
   "display_name": "Python 3 (ipykernel)",
   "language": "python",
   "name": "python3"
  },
  "language_info": {
   "codemirror_mode": {
    "name": "ipython",
    "version": 3
   },
   "file_extension": ".py",
   "mimetype": "text/x-python",
   "name": "python",
   "nbconvert_exporter": "python",
   "pygments_lexer": "ipython3",
   "version": "3.9.7"
  }
 },
 "nbformat": 4,
 "nbformat_minor": 5
}
