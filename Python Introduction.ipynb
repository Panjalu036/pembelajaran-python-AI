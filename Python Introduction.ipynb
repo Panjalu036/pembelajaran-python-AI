{
 "cells": [
  {
   "cell_type": "markdown",
   "id": "b3bae7db",
   "metadata": {},
   "source": [
    "# String"
   ]
  },
  {
   "cell_type": "code",
   "execution_count": 13,
   "id": "980a4d97",
   "metadata": {},
   "outputs": [
    {
     "name": "stdout",
     "output_type": "stream",
     "text": [
      "Hello World_2\n",
      "Hello World_3\n"
     ]
    }
   ],
   "source": [
    "#Ini adalah syntax untuk mengetik hello world\n",
    "print(\"Hello World_2\")\n",
    "print(\"Hello World_3\") "
   ]
  },
  {
   "cell_type": "code",
   "execution_count": 24,
   "id": "4c68378e",
   "metadata": {},
   "outputs": [],
   "source": [
    "angka=20.4"
   ]
  },
  {
   "cell_type": "code",
   "execution_count": 25,
   "id": "8ac70e73",
   "metadata": {},
   "outputs": [
    {
     "name": "stdout",
     "output_type": "stream",
     "text": [
      "20.4\n"
     ]
    }
   ],
   "source": [
    "print(angka)"
   ]
  },
  {
   "cell_type": "code",
   "execution_count": 26,
   "id": "b3f95e83",
   "metadata": {},
   "outputs": [
    {
     "data": {
      "text/plain": [
       "float"
      ]
     },
     "execution_count": 26,
     "metadata": {},
     "output_type": "execute_result"
    }
   ],
   "source": [
    "type(angka)"
   ]
  },
  {
   "cell_type": "code",
   "execution_count": 27,
   "id": "55c5684a",
   "metadata": {},
   "outputs": [],
   "source": [
    "angka = \"Dua Puluh\""
   ]
  },
  {
   "cell_type": "code",
   "execution_count": 28,
   "id": "89a588f2",
   "metadata": {},
   "outputs": [
    {
     "name": "stdout",
     "output_type": "stream",
     "text": [
      "Dua Puluh\n"
     ]
    }
   ],
   "source": [
    "print(angka)"
   ]
  },
  {
   "cell_type": "code",
   "execution_count": 29,
   "id": "555457db",
   "metadata": {},
   "outputs": [
    {
     "data": {
      "text/plain": [
       "str"
      ]
     },
     "execution_count": 29,
     "metadata": {},
     "output_type": "execute_result"
    }
   ],
   "source": [
    "type(angka)"
   ]
  },
  {
   "cell_type": "code",
   "execution_count": 32,
   "id": "b2d4703a",
   "metadata": {},
   "outputs": [
    {
     "name": "stdout",
     "output_type": "stream",
     "text": [
      "hello\n",
      "\n",
      "This is also a string\n"
     ]
    }
   ],
   "source": [
    "#To create a string in Python you need to use either single quotes or double quotes. For\n",
    "#example:\n",
    "\n",
    "# Single word\n",
    "print('hello')\n",
    "print() # Used to have a line space between two sentences.\n",
    "#Try deleting this line & seeing the difference.\n",
    "# Entire phrase\n",
    "print(\"This is also a string\")\n"
   ]
  },
  {
   "cell_type": "markdown",
   "id": "28807d68",
   "metadata": {},
   "source": [
    "## Store Value in string"
   ]
  },
  {
   "cell_type": "markdown",
   "id": "ce02edc1",
   "metadata": {},
   "source": [
    "In the code below we begin to explore how we can use a variable to which a string can be\n",
    "assigned.\n",
    "This can be extremely useful in many cases, where you can call the variable instead of\n",
    "typing the string everytime.\n",
    "This not only makes our code clean but it also makes it less redundant. Example syntax to\n",
    "assign a value or expression to a variable,\n",
    "variable_name = value or expression"
   ]
  },
  {
   "cell_type": "code",
   "execution_count": 33,
   "id": "f8ff320e",
   "metadata": {},
   "outputs": [
    {
     "name": "stdout",
     "output_type": "stream",
     "text": [
      "New York\n",
      "<class 'str'>\n",
      "8\n"
     ]
    }
   ],
   "source": [
    "s = 'New York'\n",
    "print(s)\n",
    "print(type(s))\n",
    "print(len(s)) # what's the string length"
   ]
  },
  {
   "cell_type": "markdown",
   "id": "d47f6e17",
   "metadata": {},
   "source": [
    "## String Indexing"
   ]
  },
  {
   "cell_type": "markdown",
   "id": "74e9075d",
   "metadata": {},
   "source": [
    "We know strings are a sequence, which means Python can use indexes to call parts of the\n",
    "sequence. Let's learn how this works.\n",
    "In Python, we use brackets [] after an object to call its index. We should also note that\n",
    "indexing starts at 0 for Python. Let's create a new object called s and the walk through a\n",
    "few examples of indexing."
   ]
  },
  {
   "cell_type": "code",
   "execution_count": 37,
   "id": "bb977bc8",
   "metadata": {},
   "outputs": [
    {
     "name": "stdout",
     "output_type": "stream",
     "text": [
      "Hello World\n"
     ]
    }
   ],
   "source": [
    "# Assign s as a string\n",
    "s = 'Hello World'\n",
    "# Print the object\n",
    "print(s)"
   ]
  },
  {
   "cell_type": "code",
   "execution_count": 38,
   "id": "54a744a7",
   "metadata": {},
   "outputs": [
    {
     "name": "stdout",
     "output_type": "stream",
     "text": [
      "H\n"
     ]
    }
   ],
   "source": [
    "# Show first element (in this case a letter)\n",
    "print(s[0])"
   ]
  },
  {
   "cell_type": "code",
   "execution_count": 39,
   "id": "42fd00d7",
   "metadata": {},
   "outputs": [
    {
     "name": "stdout",
     "output_type": "stream",
     "text": [
      "e\n"
     ]
    }
   ],
   "source": [
    "# Show the second element (also a letter)\n",
    "print(s[1])"
   ]
  },
  {
   "cell_type": "code",
   "execution_count": 40,
   "id": "a38e6139",
   "metadata": {},
   "outputs": [
    {
     "name": "stdout",
     "output_type": "stream",
     "text": [
      " \n"
     ]
    }
   ],
   "source": [
    "print(s[5])"
   ]
  },
  {
   "cell_type": "code",
   "execution_count": 41,
   "id": "cc0cc974",
   "metadata": {},
   "outputs": [
    {
     "name": "stdout",
     "output_type": "stream",
     "text": [
      "W\n"
     ]
    }
   ],
   "source": [
    "print(s[6])"
   ]
  },
  {
   "cell_type": "markdown",
   "id": "ed928f8b",
   "metadata": {},
   "source": [
    "## String concatenation and Repetition\n",
    "String Concatenation is a process to combine two strings. It is done using the '+' operator.\n",
    "String Repetition is a process of repeating a same string multiple times"
   ]
  },
  {
   "cell_type": "code",
   "execution_count": 59,
   "id": "8dfba75b",
   "metadata": {},
   "outputs": [
    {
     "name": "stdout",
     "output_type": "stream",
     "text": [
      "Hello World Selamat Pagi14\n"
     ]
    }
   ],
   "source": [
    "# concatenation (addition)\n",
    "s1 = 'Hello'\n",
    "s2 = \"World\"\n",
    "print(s1 + \" \" + s2 +  \" Selamat Pagi\" + str(14))"
   ]
  },
  {
   "cell_type": "code",
   "execution_count": 51,
   "id": "6900d36e",
   "metadata": {},
   "outputs": [
    {
     "name": "stdout",
     "output_type": "stream",
     "text": [
      "Hello_Hello_Hello_\n"
     ]
    }
   ],
   "source": [
    "# repetition (multiplication)\n",
    "print(\"Hello_\" * 3)"
   ]
  },
  {
   "cell_type": "code",
   "execution_count": 52,
   "id": "d2964665",
   "metadata": {},
   "outputs": [
    {
     "name": "stdout",
     "output_type": "stream",
     "text": [
      "----------\n"
     ]
    }
   ],
   "source": [
    "print(\"-\" * 10)"
   ]
  },
  {
   "cell_type": "code",
   "execution_count": 54,
   "id": "2edd2c63",
   "metadata": {},
   "outputs": [
    {
     "name": "stdout",
     "output_type": "stream",
     "text": [
      "lllllllllld\n"
     ]
    }
   ],
   "source": [
    "print((s1[3] * 10) + s2[4])"
   ]
  },
  {
   "cell_type": "markdown",
   "id": "0594e4e0",
   "metadata": {},
   "source": [
    "## String Slicing\n",
    "String Slicing is a process to select a subset of an entire string"
   ]
  },
  {
   "cell_type": "code",
   "execution_count": 60,
   "id": "1b16b9ea",
   "metadata": {},
   "outputs": [
    {
     "name": "stdout",
     "output_type": "stream",
     "text": [
      "a\n"
     ]
    }
   ],
   "source": [
    "s = \"Namaste World\"\n",
    "# print sub strings\n",
    "print(s[1]) #This is indexing.\n"
   ]
  },
  {
   "cell_type": "code",
   "execution_count": 64,
   "id": "90bb6ba0",
   "metadata": {},
   "outputs": [
    {
     "name": "stdout",
     "output_type": "stream",
     "text": [
      "e Wor\n"
     ]
    }
   ],
   "source": [
    "#slicing syntax : variabel_name[start : end] -> slice from start to end-1\n",
    "print(s[6 : 11]) #This is known as slicing.\n"
   ]
  },
  {
   "cell_type": "code",
   "execution_count": 63,
   "id": "9ea0d2e0",
   "metadata": {},
   "outputs": [
    {
     "name": "stdout",
     "output_type": "stream",
     "text": [
      "eWr\n"
     ]
    }
   ],
   "source": [
    "#slicing syntax : variabel_name[start : end] -> slice from start to end-1\n",
    "#slicing syntax_2 : variabel_name[start : end : step] -> slice from start to end-1 with step (default = 1)\n",
    "print(s[6 : 11 : 2]) #This is known as slicing.\n"
   ]
  },
  {
   "cell_type": "code",
   "execution_count": 65,
   "id": "deb88342",
   "metadata": {},
   "outputs": [
    {
     "name": "stdout",
     "output_type": "stream",
     "text": [
      "Worl\n"
     ]
    }
   ],
   "source": [
    "print(s[-5:-1])"
   ]
  },
  {
   "cell_type": "code",
   "execution_count": 66,
   "id": "c3574307",
   "metadata": {},
   "outputs": [
    {
     "name": "stdout",
     "output_type": "stream",
     "text": [
      "e Wor\n"
     ]
    }
   ],
   "source": [
    "print(s[-7 : -2])"
   ]
  },
  {
   "cell_type": "markdown",
   "id": "4bec2d19",
   "metadata": {},
   "source": [
    "## Basic Built-in String methods\n",
    "\n",
    "Objects in Python usually have built-in methods. These methods are functions inside the\n",
    "object (we will learn about these in much more depth later) that can perform actions or\n",
    "commands on the object itself.\n",
    "We call methods with a period and then the method name. Methods are in the form:\n",
    "object.method(parameters)\n",
    "\n",
    "Where parameters are extra arguments we can pass into the method. Don't worry if the\n",
    "details don't make 100% sense right now.\n",
    "Later on we will be creating our own objects and functions!"
   ]
  },
  {
   "cell_type": "code",
   "execution_count": 83,
   "id": "8384eeec",
   "metadata": {},
   "outputs": [
    {
     "name": "stdout",
     "output_type": "stream",
     "text": [
      "HELLO world\n"
     ]
    }
   ],
   "source": [
    "s = \"Hello World\"\n",
    "print(s[ : 5].upper() + s[5 : ].lower()) ## Convert all the element of the string to Uppercase..!!"
   ]
  },
  {
   "cell_type": "code",
   "execution_count": 68,
   "id": "3ace244e",
   "metadata": {},
   "outputs": [
    {
     "name": "stdout",
     "output_type": "stream",
     "text": [
      "hello world\n"
     ]
    }
   ],
   "source": [
    "print(s.lower()) ## Convert all the element of the string to Lowercase..!!"
   ]
  },
  {
   "cell_type": "code",
   "execution_count": 78,
   "id": "e1f93064",
   "metadata": {},
   "outputs": [],
   "source": [
    "s3 = \"12341\""
   ]
  },
  {
   "cell_type": "code",
   "execution_count": 79,
   "id": "00024e17",
   "metadata": {},
   "outputs": [
    {
     "data": {
      "text/plain": [
       "True"
      ]
     },
     "execution_count": 79,
     "metadata": {},
     "output_type": "execute_result"
    }
   ],
   "source": [
    "s3.isnumeric()"
   ]
  },
  {
   "cell_type": "markdown",
   "id": "d274d724",
   "metadata": {},
   "source": [
    "# Print Formatting"
   ]
  },
  {
   "cell_type": "code",
   "execution_count": 84,
   "id": "723c3541",
   "metadata": {},
   "outputs": [],
   "source": [
    "name = \"Einstein\"\n",
    "age = 22\n",
    "married = True"
   ]
  },
  {
   "cell_type": "code",
   "execution_count": 85,
   "id": "09ed8e34",
   "metadata": {},
   "outputs": [
    {
     "name": "stdout",
     "output_type": "stream",
     "text": [
      "My name is  Einstein  My age is  22  I am Married  True\n"
     ]
    }
   ],
   "source": [
    "#Cara 1\n",
    "print(\"My name is \", name, \" My age is \", age, \" I am Married \", married)"
   ]
  },
  {
   "cell_type": "code",
   "execution_count": 86,
   "id": "8bb3930a",
   "metadata": {},
   "outputs": [
    {
     "name": "stdout",
     "output_type": "stream",
     "text": [
      "My name is Einstein, my age is 22, and it is True that I am married\n"
     ]
    }
   ],
   "source": [
    "#Cara 2\n",
    "print(\"My name is %s, my age is %s, and it is %s that I am married\" % (name, age, married))"
   ]
  },
  {
   "cell_type": "code",
   "execution_count": 89,
   "id": "d229897c",
   "metadata": {},
   "outputs": [
    {
     "name": "stdout",
     "output_type": "stream",
     "text": [
      "My name is Einstein, my age is 22, and it is True that I am married\n"
     ]
    }
   ],
   "source": [
    "#Cara 3\n",
    "print(\"My name is {}, my age is {}, and it is {} that I am married\".format(name, age, married))"
   ]
  },
  {
   "cell_type": "markdown",
   "id": "1548cf3d",
   "metadata": {},
   "source": [
    "# Numbers"
   ]
  },
  {
   "cell_type": "markdown",
   "id": "a72b8c0a",
   "metadata": {},
   "source": [
    "## Basic Aritmatika"
   ]
  },
  {
   "cell_type": "code",
   "execution_count": 90,
   "id": "e99cdaa5",
   "metadata": {},
   "outputs": [
    {
     "name": "stdout",
     "output_type": "stream",
     "text": [
      "5\n"
     ]
    }
   ],
   "source": [
    "a = 2\n",
    "b = 3\n",
    "print(a+b)"
   ]
  },
  {
   "cell_type": "code",
   "execution_count": 91,
   "id": "ce603ada",
   "metadata": {},
   "outputs": [
    {
     "name": "stdout",
     "output_type": "stream",
     "text": [
      "-1\n"
     ]
    }
   ],
   "source": [
    "print(a-b)"
   ]
  },
  {
   "cell_type": "code",
   "execution_count": 92,
   "id": "9c129b61",
   "metadata": {},
   "outputs": [
    {
     "name": "stdout",
     "output_type": "stream",
     "text": [
      "6\n"
     ]
    }
   ],
   "source": [
    "print(a*3)"
   ]
  },
  {
   "cell_type": "code",
   "execution_count": 93,
   "id": "f2648b0c",
   "metadata": {},
   "outputs": [
    {
     "name": "stdout",
     "output_type": "stream",
     "text": [
      "9\n"
     ]
    }
   ],
   "source": [
    "print(b*3)"
   ]
  },
  {
   "cell_type": "code",
   "execution_count": 94,
   "id": "bae30b4f",
   "metadata": {},
   "outputs": [
    {
     "name": "stdout",
     "output_type": "stream",
     "text": [
      "8\n"
     ]
    }
   ],
   "source": [
    "print(a**b)"
   ]
  },
  {
   "cell_type": "code",
   "execution_count": 96,
   "id": "a2f491de",
   "metadata": {},
   "outputs": [
    {
     "name": "stdout",
     "output_type": "stream",
     "text": [
      "3.3333333333333335\n"
     ]
    }
   ],
   "source": [
    "print(10/3.0)"
   ]
  },
  {
   "cell_type": "code",
   "execution_count": 100,
   "id": "0d14138d",
   "metadata": {},
   "outputs": [
    {
     "data": {
      "text/plain": [
       "33"
      ]
     },
     "execution_count": 100,
     "metadata": {},
     "output_type": "execute_result"
    }
   ],
   "source": [
    "int('100001', 2)"
   ]
  },
  {
   "cell_type": "code",
   "execution_count": null,
   "id": "a16fcff2",
   "metadata": {},
   "outputs": [],
   "source": []
  }
 ],
 "metadata": {
  "kernelspec": {
   "display_name": "Python 3 (ipykernel)",
   "language": "python",
   "name": "python3"
  },
  "language_info": {
   "codemirror_mode": {
    "name": "ipython",
    "version": 3
   },
   "file_extension": ".py",
   "mimetype": "text/x-python",
   "name": "python",
   "nbconvert_exporter": "python",
   "pygments_lexer": "ipython3",
   "version": "3.9.7"
  }
 },
 "nbformat": 4,
 "nbformat_minor": 5
}
