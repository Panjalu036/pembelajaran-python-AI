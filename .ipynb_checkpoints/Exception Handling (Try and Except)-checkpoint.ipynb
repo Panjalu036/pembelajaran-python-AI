{
 "cells": [
  {
   "cell_type": "code",
   "execution_count": 3,
   "id": "f69eb87d",
   "metadata": {},
   "outputs": [
    {
     "ename": "ZeroDivisionError",
     "evalue": "division by zero",
     "output_type": "error",
     "traceback": [
      "\u001b[1;31m---------------------------------------------------------------------------\u001b[0m",
      "\u001b[1;31mZeroDivisionError\u001b[0m                         Traceback (most recent call last)",
      "\u001b[1;32m~\\AppData\\Local\\Temp/ipykernel_25764/1055397457.py\u001b[0m in \u001b[0;36m<module>\u001b[1;34m\u001b[0m\n\u001b[0;32m      1\u001b[0m \u001b[0mx\u001b[0m \u001b[1;33m=\u001b[0m \u001b[1;36m5\u001b[0m\u001b[1;33m\u001b[0m\u001b[1;33m\u001b[0m\u001b[0m\n\u001b[0;32m      2\u001b[0m \u001b[0my\u001b[0m \u001b[1;33m=\u001b[0m \u001b[1;36m0\u001b[0m\u001b[1;33m\u001b[0m\u001b[1;33m\u001b[0m\u001b[0m\n\u001b[1;32m----> 3\u001b[1;33m \u001b[0mprint\u001b[0m\u001b[1;33m(\u001b[0m\u001b[0mx\u001b[0m\u001b[1;33m/\u001b[0m\u001b[0my\u001b[0m\u001b[1;33m)\u001b[0m\u001b[1;33m\u001b[0m\u001b[1;33m\u001b[0m\u001b[0m\n\u001b[0m\u001b[0;32m      4\u001b[0m \u001b[1;33m\u001b[0m\u001b[0m\n\u001b[0;32m      5\u001b[0m \u001b[0my\u001b[0m \u001b[1;33m=\u001b[0m \u001b[1;36m2\u001b[0m \u001b[1;33m+\u001b[0m \u001b[0my\u001b[0m\u001b[1;33m\u001b[0m\u001b[1;33m\u001b[0m\u001b[0m\n",
      "\u001b[1;31mZeroDivisionError\u001b[0m: division by zero"
     ]
    }
   ],
   "source": [
    "x = 5\n",
    "y = 0\n",
    "print(x/y)\n",
    "\n",
    "y = 2 + y\n",
    "print(x/y)"
   ]
  },
  {
   "cell_type": "code",
   "execution_count": 2,
   "id": "e0dcf0bd",
   "metadata": {},
   "outputs": [
    {
     "ename": "KeyError",
     "evalue": "'no_hp'",
     "output_type": "error",
     "traceback": [
      "\u001b[1;31m---------------------------------------------------------------------------\u001b[0m",
      "\u001b[1;31mKeyError\u001b[0m                                  Traceback (most recent call last)",
      "\u001b[1;32m~\\AppData\\Local\\Temp/ipykernel_25764/3392722298.py\u001b[0m in \u001b[0;36m<module>\u001b[1;34m\u001b[0m\n\u001b[0;32m      1\u001b[0m \u001b[0morang\u001b[0m \u001b[1;33m=\u001b[0m \u001b[1;33m{\u001b[0m\u001b[1;34m'nama'\u001b[0m\u001b[1;33m:\u001b[0m\u001b[1;34m'budi'\u001b[0m\u001b[1;33m,\u001b[0m \u001b[1;34m'umur'\u001b[0m\u001b[1;33m:\u001b[0m\u001b[1;36m20\u001b[0m\u001b[1;33m}\u001b[0m\u001b[1;33m\u001b[0m\u001b[1;33m\u001b[0m\u001b[0m\n\u001b[1;32m----> 2\u001b[1;33m \u001b[0morang\u001b[0m\u001b[1;33m[\u001b[0m\u001b[1;34m'no_hp'\u001b[0m\u001b[1;33m]\u001b[0m\u001b[1;33m\u001b[0m\u001b[1;33m\u001b[0m\u001b[0m\n\u001b[0m",
      "\u001b[1;31mKeyError\u001b[0m: 'no_hp'"
     ]
    }
   ],
   "source": [
    "orang = {'nama':'budi', 'umur':20}\n",
    "orang['no_hp']"
   ]
  },
  {
   "cell_type": "markdown",
   "id": "9e552711",
   "metadata": {},
   "source": [
    "## Try-Except"
   ]
  },
  {
   "cell_type": "code",
   "execution_count": 6,
   "id": "5ac9b2da",
   "metadata": {},
   "outputs": [
    {
     "name": "stdout",
     "output_type": "stream",
     "text": [
      "Tidak bisa, pembagian angka dengan 0\n",
      "2.5\n"
     ]
    }
   ],
   "source": [
    "x = 5\n",
    "y = 0\n",
    "\n",
    "try:\n",
    "    hasil = x/y\n",
    "    print(hasil)\n",
    "except:\n",
    "    print(\"Tidak bisa, pembagian angka dengan 0\")\n",
    "\n",
    "y = 2 + y\n",
    "print(x/y)"
   ]
  },
  {
   "cell_type": "code",
   "execution_count": 8,
   "id": "03c73640",
   "metadata": {},
   "outputs": [
    {
     "name": "stdout",
     "output_type": "stream",
     "text": [
      "Key Tidak Ditemukan\n",
      "budi\n"
     ]
    }
   ],
   "source": [
    "orang = {'nama':'budi', 'umur':20}\n",
    "\n",
    "try:\n",
    "    print(orang['no_hp'])\n",
    "except:\n",
    "    print(\"Key Tidak Ditemukan\")\n",
    "\n",
    "    \n",
    "print(orang['nama'])"
   ]
  },
  {
   "cell_type": "code",
   "execution_count": 14,
   "id": "55a72e3d",
   "metadata": {},
   "outputs": [
    {
     "name": "stdout",
     "output_type": "stream",
     "text": [
      "Masukkan angka pertama: 4\n",
      "Masukkan angka kedua: 0\n",
      "division by zero\n"
     ]
    }
   ],
   "source": [
    "x = int(input(\"Masukkan angka pertama: \"))\n",
    "y = int(input(\"Masukkan angka kedua: \"))\n",
    "\n",
    "try:\n",
    "    hasil = x/y\n",
    "except Exception as e:\n",
    "    print(e)\n"
   ]
  },
  {
   "cell_type": "markdown",
   "id": "294cb021",
   "metadata": {},
   "source": [
    "## Try-Except-Else"
   ]
  },
  {
   "cell_type": "code",
   "execution_count": 10,
   "id": "e28418f2",
   "metadata": {},
   "outputs": [
    {
     "name": "stdout",
     "output_type": "stream",
     "text": [
      "Masukkan angka pertama: 3\n",
      "Masukkan angka kedua: 2\n",
      "Hasil dari X bagi Y =  1.5\n"
     ]
    }
   ],
   "source": [
    "x = int(input(\"Masukkan angka pertama: \"))\n",
    "y = int(input(\"Masukkan angka kedua: \"))\n",
    "\n",
    "try:\n",
    "    hasil = x/y\n",
    "except:\n",
    "    print(\"Tidak bisa, pembagian angka dengan 0\")\n",
    "else:\n",
    "     print(\"Hasil dari X bagi Y = \", hasil)"
   ]
  },
  {
   "cell_type": "markdown",
   "id": "73bccb92",
   "metadata": {},
   "source": [
    "## Try-Except-Finally"
   ]
  },
  {
   "cell_type": "code",
   "execution_count": 16,
   "id": "cdddd87c",
   "metadata": {},
   "outputs": [
    {
     "name": "stdout",
     "output_type": "stream",
     "text": [
      "Masukkan angka pertama: 4\n",
      "Masukkan angka kedua: 5\n",
      "Hasil dari X bagi Y =  0.8\n",
      "Bagian ini akan terprint di kedua kondisi\n"
     ]
    }
   ],
   "source": [
    "x = int(input(\"Masukkan angka pertama: \"))\n",
    "y = int(input(\"Masukkan angka kedua: \"))\n",
    "\n",
    "try:\n",
    "    hasil = x/y\n",
    "except:\n",
    "    print(\"Tidak bisa, pembagian angka dengan 0\")\n",
    "else:\n",
    "     print(\"Hasil dari X bagi Y = \", hasil)\n",
    "finally:\n",
    "    print(\"Bagian ini akan terprint di kedua kondisi\")"
   ]
  },
  {
   "cell_type": "code",
   "execution_count": null,
   "id": "3978e530",
   "metadata": {},
   "outputs": [],
   "source": []
  }
 ],
 "metadata": {
  "kernelspec": {
   "display_name": "Python 3 (ipykernel)",
   "language": "python",
   "name": "python3"
  },
  "language_info": {
   "codemirror_mode": {
    "name": "ipython",
    "version": 3
   },
   "file_extension": ".py",
   "mimetype": "text/x-python",
   "name": "python",
   "nbconvert_exporter": "python",
   "pygments_lexer": "ipython3",
   "version": "3.9.7"
  }
 },
 "nbformat": 4,
 "nbformat_minor": 5
}
