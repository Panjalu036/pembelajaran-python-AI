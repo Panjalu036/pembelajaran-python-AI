{
 "cells": [
  {
   "cell_type": "code",
   "execution_count": 1,
   "id": "a9c2acc1",
   "metadata": {},
   "outputs": [
    {
     "ename": "FileNotFoundError",
     "evalue": "[Errno 2] No such file or directory: 'myfile.txt'",
     "output_type": "error",
     "traceback": [
      "\u001b[1;31m---------------------------------------------------------------------------\u001b[0m",
      "\u001b[1;31mFileNotFoundError\u001b[0m                         Traceback (most recent call last)",
      "\u001b[1;32m~\\AppData\\Local\\Temp/ipykernel_9488/4238443618.py\u001b[0m in \u001b[0;36m<module>\u001b[1;34m\u001b[0m\n\u001b[1;32m----> 1\u001b[1;33m \u001b[1;32mwith\u001b[0m \u001b[0mopen\u001b[0m\u001b[1;33m(\u001b[0m\u001b[1;34m'myfile.txt'\u001b[0m\u001b[1;33m,\u001b[0m \u001b[1;34m'r'\u001b[0m\u001b[1;33m)\u001b[0m \u001b[1;32mas\u001b[0m \u001b[0mf\u001b[0m\u001b[1;33m:\u001b[0m\u001b[1;33m\u001b[0m\u001b[1;33m\u001b[0m\u001b[0m\n\u001b[0m\u001b[0;32m      2\u001b[0m     \u001b[1;32mfor\u001b[0m \u001b[0mline\u001b[0m \u001b[1;32min\u001b[0m \u001b[0mf\u001b[0m\u001b[1;33m:\u001b[0m\u001b[1;33m\u001b[0m\u001b[1;33m\u001b[0m\u001b[0m\n\u001b[0;32m      3\u001b[0m         \u001b[0mprint\u001b[0m\u001b[1;33m(\u001b[0m\u001b[0mline\u001b[0m\u001b[1;33m)\u001b[0m\u001b[1;33m\u001b[0m\u001b[1;33m\u001b[0m\u001b[0m\n\u001b[0;32m      4\u001b[0m \u001b[1;33m\u001b[0m\u001b[0m\n\u001b[0;32m      5\u001b[0m \u001b[1;33m\u001b[0m\u001b[0m\n",
      "\u001b[1;31mFileNotFoundError\u001b[0m: [Errno 2] No such file or directory: 'myfile.txt'"
     ]
    }
   ],
   "source": [
    "with open('myfile.txt', 'r') as f:\n",
    "    for line in f:\n",
    "        print(line)\n",
    "\n",
    "\n",
    "# let's verify if it was really created.\n",
    "# For that, let's find out which directory we're working from\n",
    "import os\n",
    "print(os.path.abspath(os.curdir))"
   ]
  },
  {
   "cell_type": "code",
   "execution_count": 2,
   "id": "806093d3",
   "metadata": {},
   "outputs": [],
   "source": [
    "with open('myfile.txt', 'w+') as f:\n",
    "    f.write(\"This is my first file!\\n\")\n",
    "    f.write(\"Second line!\\n\")\n",
    "    f.write(\"Last line!\\n\")\n",
    "\n"
   ]
  },
  {
   "cell_type": "code",
   "execution_count": 3,
   "id": "32a9036c",
   "metadata": {},
   "outputs": [
    {
     "name": "stdout",
     "output_type": "stream",
     "text": [
      "This is my first file!\n",
      "\n",
      "Second line!\n",
      "\n",
      "Last line!\n",
      "\n"
     ]
    }
   ],
   "source": [
    "with open('myfile.txt', 'r') as f:\n",
    "    for line in f:\n",
    "        print(line)"
   ]
  },
  {
   "cell_type": "code",
   "execution_count": 8,
   "id": "3f47498c",
   "metadata": {},
   "outputs": [],
   "source": [
    "with open('myfile.txt', 'a') as f:\n",
    "    f.write(\"\\nApakah kamu sudah makan?\")"
   ]
  },
  {
   "cell_type": "code",
   "execution_count": 20,
   "id": "5fd0c699",
   "metadata": {},
   "outputs": [],
   "source": [
    "with open('myfile.txt', 'w+') as f:\n",
    "    f.write(\"This is my first file, so happy can created this file!\\n\") #Untuk menulis pada file"
   ]
  },
  {
   "cell_type": "code",
   "execution_count": 21,
   "id": "92c8c88a",
   "metadata": {},
   "outputs": [],
   "source": [
    "with open('myfile.txt', 'w+') as f:\n",
    "    for line in f:  #untuk membaca file\n",
    "        print(line)"
   ]
  },
  {
   "cell_type": "code",
   "execution_count": 24,
   "id": "cff994dc",
   "metadata": {},
   "outputs": [],
   "source": [
    "with open('myfile.txt', 'a+') as f:\n",
    "    f.write(\"This is my first file, so happy can created this file!\\n\") #Untuk menulis pada file\n",
    "    for line in f:  #untuk membaca file\n",
    "        print(line)"
   ]
  },
  {
   "cell_type": "code",
   "execution_count": 26,
   "id": "42ff032d",
   "metadata": {},
   "outputs": [],
   "source": [
    "with open('myfile.txt', 'a+') as f:\n",
    "    for line in f:  #untuk membaca file\n",
    "        line"
   ]
  },
  {
   "cell_type": "code",
   "execution_count": 66,
   "id": "54008a77",
   "metadata": {},
   "outputs": [],
   "source": [
    "data_baca = open('myfile.txt', 'a+')\n",
    "data_baca.seek(0)\n",
    "hasil = data_baca.read()"
   ]
  },
  {
   "cell_type": "code",
   "execution_count": 67,
   "id": "59954063",
   "metadata": {},
   "outputs": [
    {
     "name": "stdout",
     "output_type": "stream",
     "text": [
      "This is my first file, so happy can created this file!\n",
      "This is my first file, so happy can created this file!\n",
      "data baru\n"
     ]
    }
   ],
   "source": [
    "print(hasil)"
   ]
  },
  {
   "cell_type": "code",
   "execution_count": 68,
   "id": "81cda204",
   "metadata": {},
   "outputs": [
    {
     "data": {
      "text/plain": [
       "12"
      ]
     },
     "execution_count": 68,
     "metadata": {},
     "output_type": "execute_result"
    }
   ],
   "source": [
    "data_baca.write(\"\\ndata baru_2\")"
   ]
  },
  {
   "cell_type": "code",
   "execution_count": 51,
   "id": "7b58515a",
   "metadata": {},
   "outputs": [],
   "source": [
    "data_baca = open('myfile.txt', 'a+')"
   ]
  },
  {
   "cell_type": "code",
   "execution_count": 69,
   "id": "da44c005",
   "metadata": {},
   "outputs": [],
   "source": [
    "data_baca.close()"
   ]
  },
  {
   "cell_type": "code",
   "execution_count": null,
   "id": "3c14ee48",
   "metadata": {},
   "outputs": [],
   "source": []
  }
 ],
 "metadata": {
  "kernelspec": {
   "display_name": "Python 3 (ipykernel)",
   "language": "python",
   "name": "python3"
  },
  "language_info": {
   "codemirror_mode": {
    "name": "ipython",
    "version": 3
   },
   "file_extension": ".py",
   "mimetype": "text/x-python",
   "name": "python",
   "nbconvert_exporter": "python",
   "pygments_lexer": "ipython3",
   "version": "3.9.7"
  }
 },
 "nbformat": 4,
 "nbformat_minor": 5
}
