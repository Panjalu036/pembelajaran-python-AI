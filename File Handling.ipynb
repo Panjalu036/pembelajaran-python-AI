{
 "cells": [
  {
   "cell_type": "code",
   "execution_count": 2,
   "id": "4121ef4c",
   "metadata": {},
   "outputs": [
    {
     "name": "stdout",
     "output_type": "stream",
     "text": [
      "This is my first file, so happy can created this file!\n",
      "\n",
      "This is my first file, so happy can created this file!\n",
      "\n",
      "data baru\n",
      "\n",
      "data baru_2\n",
      "\n",
      "data baru_2data baru\n",
      "\n",
      "data baru\tdata baru\n",
      "C:\\Users\\Alien\\Pembelajaran\n"
     ]
    }
   ],
   "source": [
    "with open('myfiles.txt', 'r') as f:\n",
    "    for line in f:\n",
    "        print(line)\n",
    "\n",
    "\n",
    "# let's verify if it was really created.\n",
    "# For that, let's find out which directory we're working from\n",
    "import os\n",
    "print(os.path.abspath(os.curdir))"
   ]
  },
  {
   "cell_type": "code",
   "execution_count": 3,
   "id": "0b2ff233",
   "metadata": {},
   "outputs": [],
   "source": [
    "with open('myfile.txt', 'w+') as f:\n",
    "    f.write(\"This is my first file!\\n\")\n",
    "    f.write(\"Second line!\\n\")\n",
    "    f.write(\"Last line!\\n\")\n",
    "\n"
   ]
  },
  {
   "cell_type": "code",
   "execution_count": 4,
   "id": "56e984c7",
   "metadata": {},
   "outputs": [
    {
     "name": "stdout",
     "output_type": "stream",
     "text": [
      "This is my first file!\n",
      "\n",
      "Second line!\n",
      "\n",
      "Last line!\n",
      "\n"
     ]
    }
   ],
   "source": [
    "with open('myfile.txt', 'r') as f:\n",
    "    for line in f:\n",
    "        print(line)"
   ]
  },
  {
   "cell_type": "code",
   "execution_count": 5,
   "id": "251b8267",
   "metadata": {},
   "outputs": [],
   "source": [
    "with open('myfile.txt', 'a') as f:\n",
    "    f.write(\"\\nApakah kamu sudah makan?\")"
   ]
  },
  {
   "cell_type": "code",
   "execution_count": 6,
   "id": "a799ad83",
   "metadata": {},
   "outputs": [],
   "source": [
    "with open('myfile.txt', 'w+') as f:\n",
    "    f.write(\"This is my first file, so happy can created this file!\\n\") #Untuk menulis pada file"
   ]
  },
  {
   "cell_type": "code",
   "execution_count": 7,
   "id": "99dd3da7",
   "metadata": {},
   "outputs": [],
   "source": [
    "with open('myfile.txt', 'w+') as f:\n",
    "    for line in f:  #untuk membaca file\n",
    "        print(line)"
   ]
  },
  {
   "cell_type": "code",
   "execution_count": 24,
   "id": "c3ba3538",
   "metadata": {},
   "outputs": [],
   "source": [
    "with open('myfile.txt', 'a+') as f:\n",
    "    f.write(\"This is my first file, so happy can created this file!\\n\") #Untuk menulis pada file\n",
    "    for line in f:  #untuk membaca file\n",
    "        print(line)"
   ]
  },
  {
   "cell_type": "code",
   "execution_count": 26,
   "id": "c22ac6da",
   "metadata": {},
   "outputs": [],
   "source": [
    "with open('myfile.txt', 'a+') as f:\n",
    "    for line in f:  #untuk membaca file\n",
    "        line"
   ]
  },
  {
   "cell_type": "code",
   "execution_count": 8,
   "id": "a5187362",
   "metadata": {},
   "outputs": [],
   "source": [
    "data_baca = open('myfile.txt', 'a+')\n",
    "data_baca.seek(0)\n",
    "hasil = data_baca.read()\n",
    "data_baca.close()"
   ]
  },
  {
   "cell_type": "code",
   "execution_count": 72,
   "id": "784c0deb",
   "metadata": {},
   "outputs": [
    {
     "name": "stdout",
     "output_type": "stream",
     "text": [
      "This is my first file, so happy can created this file!\n",
      "This is my first file, so happy can created this file!\n",
      "data baru\n",
      "data baru_2\n"
     ]
    }
   ],
   "source": [
    "print(hasil)"
   ]
  },
  {
   "cell_type": "code",
   "execution_count": 76,
   "id": "d0f83e77",
   "metadata": {},
   "outputs": [
    {
     "data": {
      "text/plain": [
       "10"
      ]
     },
     "execution_count": 76,
     "metadata": {},
     "output_type": "execute_result"
    }
   ],
   "source": [
    "data_baca.write(\"\\tdata baru\")"
   ]
  },
  {
   "cell_type": "code",
   "execution_count": 51,
   "id": "1de5fe94",
   "metadata": {},
   "outputs": [],
   "source": [
    "data_baca = open('myfile.txt', 'a+')"
   ]
  },
  {
   "cell_type": "code",
   "execution_count": 77,
   "id": "9534079a",
   "metadata": {},
   "outputs": [],
   "source": [
    "data_baca.close()"
   ]
  },
  {
   "cell_type": "code",
   "execution_count": 79,
   "id": "8e506cb9",
   "metadata": {},
   "outputs": [
    {
     "name": "stdout",
     "output_type": "stream",
     "text": [
      "A\n"
     ]
    }
   ],
   "source": [
    "x = 5\n",
    "y = 0\n",
    "\n",
    "try:\n",
    "    #hasil = x/y\n",
    "    print(asd)\n",
    "except ArithmeticError:\n",
    "    print(\"Tidak bisa, pembagian angka dengan 0\")\n",
    "except :\n",
    "    print(\"A\")"
   ]
  },
  {
   "cell_type": "code",
   "execution_count": null,
   "id": "da4b4a2b",
   "metadata": {},
   "outputs": [],
   "source": []
  }
 ],
 "metadata": {
  "kernelspec": {
   "display_name": "Python 3 (ipykernel)",
   "language": "python",
   "name": "python3"
  },
  "language_info": {
   "codemirror_mode": {
    "name": "ipython",
    "version": 3
   },
   "file_extension": ".py",
   "mimetype": "text/x-python",
   "name": "python",
   "nbconvert_exporter": "python",
   "pygments_lexer": "ipython3",
   "version": "3.9.7"
  }
 },
 "nbformat": 4,
 "nbformat_minor": 5
}
