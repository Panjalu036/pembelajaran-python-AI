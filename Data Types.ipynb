{
 "cells": [
  {
   "cell_type": "markdown",
   "id": "cc8453a1",
   "metadata": {},
   "source": [
    "## In Class"
   ]
  },
  {
   "cell_type": "code",
   "execution_count": 1,
   "id": "6c8d7d45",
   "metadata": {},
   "outputs": [
    {
     "name": "stdout",
     "output_type": "stream",
     "text": [
      "5 <class 'int'>\n"
     ]
    }
   ],
   "source": [
    "x = 5\n",
    "print(x, type(x))"
   ]
  },
  {
   "cell_type": "code",
   "execution_count": 2,
   "id": "895d8b94",
   "metadata": {},
   "outputs": [
    {
     "name": "stdout",
     "output_type": "stream",
     "text": [
      "(5+8j) <class 'complex'>\n"
     ]
    }
   ],
   "source": [
    "m = 5 + 8j\n",
    "print(m, type(m))"
   ]
  },
  {
   "cell_type": "code",
   "execution_count": 5,
   "id": "ee2cf9e6",
   "metadata": {},
   "outputs": [],
   "source": [
    "boolean1 = True\n",
    "boolean2 = False"
   ]
  },
  {
   "cell_type": "code",
   "execution_count": 6,
   "id": "f72f0a69",
   "metadata": {},
   "outputs": [
    {
     "name": "stdout",
     "output_type": "stream",
     "text": [
      "True False\n"
     ]
    }
   ],
   "source": [
    "print(boolean1, boolean2)"
   ]
  },
  {
   "cell_type": "code",
   "execution_count": 7,
   "id": "9c27dde4",
   "metadata": {},
   "outputs": [
    {
     "name": "stdout",
     "output_type": "stream",
     "text": [
      "<class 'bool'> <class 'bool'>\n"
     ]
    }
   ],
   "source": [
    "print(type(boolean1), type(boolean2))"
   ]
  },
  {
   "cell_type": "markdown",
   "id": "2f5266a5",
   "metadata": {},
   "source": [
    "## List"
   ]
  },
  {
   "cell_type": "code",
   "execution_count": 38,
   "id": "579974f0",
   "metadata": {},
   "outputs": [],
   "source": [
    "mylist = ['abcd', 786, 2.23 , 'john', 70.2]\n",
    "tinylist = [1,2,3,'4']"
   ]
  },
  {
   "cell_type": "code",
   "execution_count": 39,
   "id": "f2fd5f6c",
   "metadata": {},
   "outputs": [
    {
     "data": {
      "text/plain": [
       "['abcd', 786, 2.23, 'john', 70.2]"
      ]
     },
     "execution_count": 39,
     "metadata": {},
     "output_type": "execute_result"
    }
   ],
   "source": [
    "mylist"
   ]
  },
  {
   "cell_type": "code",
   "execution_count": 40,
   "id": "7a8b89f4",
   "metadata": {},
   "outputs": [
    {
     "data": {
      "text/plain": [
       "['defg', 786, 2.23, 'john', 70.2]"
      ]
     },
     "execution_count": 40,
     "metadata": {},
     "output_type": "execute_result"
    }
   ],
   "source": [
    "mylist[0] = 'defg'\n",
    "mylist"
   ]
  },
  {
   "cell_type": "code",
   "execution_count": 10,
   "id": "d6897f08",
   "metadata": {},
   "outputs": [
    {
     "name": "stdout",
     "output_type": "stream",
     "text": [
      "['abcd', 786, 2.23, 'john', 70.2] <class 'list'>\n"
     ]
    }
   ],
   "source": [
    "print(mylist, type(mylist))"
   ]
  },
  {
   "cell_type": "code",
   "execution_count": 11,
   "id": "fa9e5ace",
   "metadata": {},
   "outputs": [
    {
     "name": "stdout",
     "output_type": "stream",
     "text": [
      "5\n"
     ]
    }
   ],
   "source": [
    "print(len(mylist))"
   ]
  },
  {
   "cell_type": "code",
   "execution_count": 13,
   "id": "1f71e19a",
   "metadata": {},
   "outputs": [
    {
     "data": {
      "text/plain": [
       "2.23"
      ]
     },
     "execution_count": 13,
     "metadata": {},
     "output_type": "execute_result"
    }
   ],
   "source": [
    "mylist[2]"
   ]
  },
  {
   "cell_type": "code",
   "execution_count": 14,
   "id": "be19bbd9",
   "metadata": {},
   "outputs": [
    {
     "data": {
      "text/plain": [
       "[2.23, 'john']"
      ]
     },
     "execution_count": 14,
     "metadata": {},
     "output_type": "execute_result"
    }
   ],
   "source": [
    "mylist[2:4]"
   ]
  },
  {
   "cell_type": "code",
   "execution_count": 15,
   "id": "0095e5e0",
   "metadata": {},
   "outputs": [
    {
     "data": {
      "text/plain": [
       "[786, 'john']"
      ]
     },
     "execution_count": 15,
     "metadata": {},
     "output_type": "execute_result"
    }
   ],
   "source": [
    "mylist[1:5:2]"
   ]
  },
  {
   "cell_type": "code",
   "execution_count": 16,
   "id": "55f17464",
   "metadata": {},
   "outputs": [
    {
     "data": {
      "text/plain": [
       "'john'"
      ]
     },
     "execution_count": 16,
     "metadata": {},
     "output_type": "execute_result"
    }
   ],
   "source": [
    "mylist[-2]"
   ]
  },
  {
   "cell_type": "code",
   "execution_count": 20,
   "id": "36b97701",
   "metadata": {},
   "outputs": [],
   "source": [
    "newlist = tinylist + mylist"
   ]
  },
  {
   "cell_type": "code",
   "execution_count": 21,
   "id": "09011dc2",
   "metadata": {},
   "outputs": [
    {
     "name": "stdout",
     "output_type": "stream",
     "text": [
      "[1, 2, 3, '4', 'abcd', 786, 2.23, 'john', 70.2]\n"
     ]
    }
   ],
   "source": [
    "print(newlist)"
   ]
  },
  {
   "cell_type": "code",
   "execution_count": 22,
   "id": "65115c7f",
   "metadata": {},
   "outputs": [
    {
     "name": "stdout",
     "output_type": "stream",
     "text": [
      "['abcd', 786, 2.23, 'john', 70.2, 'abcd', 786, 2.23, 'john', 70.2, 'abcd', 786, 2.23, 'john', 70.2]\n"
     ]
    }
   ],
   "source": [
    "print(mylist*3)"
   ]
  },
  {
   "cell_type": "markdown",
   "id": "918b94fc",
   "metadata": {},
   "source": [
    "#### List Append VS Insert"
   ]
  },
  {
   "cell_type": "code",
   "execution_count": 23,
   "id": "61c1a744",
   "metadata": {},
   "outputs": [
    {
     "data": {
      "text/plain": [
       "['abcd', 786, 2.23, 'john', 70.2]"
      ]
     },
     "execution_count": 23,
     "metadata": {},
     "output_type": "execute_result"
    }
   ],
   "source": [
    "mylist"
   ]
  },
  {
   "cell_type": "code",
   "execution_count": 24,
   "id": "aba35f0e",
   "metadata": {},
   "outputs": [],
   "source": [
    "mylist.append('Mikey') #Add element on the last"
   ]
  },
  {
   "cell_type": "code",
   "execution_count": 25,
   "id": "dbd66632",
   "metadata": {},
   "outputs": [
    {
     "data": {
      "text/plain": [
       "['abcd', 786, 2.23, 'john', 70.2, 'Mikey']"
      ]
     },
     "execution_count": 25,
     "metadata": {},
     "output_type": "execute_result"
    }
   ],
   "source": [
    "mylist"
   ]
  },
  {
   "cell_type": "code",
   "execution_count": 26,
   "id": "dd1488c4",
   "metadata": {},
   "outputs": [
    {
     "data": {
      "text/plain": [
       "['abcd', 786, 412, 2.23, 'john', 70.2, 'Mikey']"
      ]
     },
     "execution_count": 26,
     "metadata": {},
     "output_type": "execute_result"
    }
   ],
   "source": [
    "mylist.insert(2, 412) #Add element on the spesific index (location)\n",
    "mylist"
   ]
  },
  {
   "cell_type": "markdown",
   "id": "1793ec3d",
   "metadata": {},
   "source": [
    "#### List Remove VS Pop"
   ]
  },
  {
   "cell_type": "code",
   "execution_count": 27,
   "id": "543303e5",
   "metadata": {},
   "outputs": [
    {
     "data": {
      "text/plain": [
       "['abcd', 786, 412, 2.23, 'john', 'Mikey']"
      ]
     },
     "execution_count": 27,
     "metadata": {},
     "output_type": "execute_result"
    }
   ],
   "source": [
    "mylist.remove(70.2) #Delete element based on the value\n",
    "mylist"
   ]
  },
  {
   "cell_type": "code",
   "execution_count": 28,
   "id": "0de14d0c",
   "metadata": {},
   "outputs": [
    {
     "data": {
      "text/plain": [
       "['abcd', 786, 412, 'john', 'Mikey']"
      ]
     },
     "execution_count": 28,
     "metadata": {},
     "output_type": "execute_result"
    }
   ],
   "source": [
    "mylist.pop(3) #Delete element based on the index\n",
    "mylist"
   ]
  },
  {
   "cell_type": "code",
   "execution_count": 29,
   "id": "5674fd67",
   "metadata": {},
   "outputs": [
    {
     "data": {
      "text/plain": [
       "['abcd', 786, 412, 'john']"
      ]
     },
     "execution_count": 29,
     "metadata": {},
     "output_type": "execute_result"
    }
   ],
   "source": [
    "mylist.pop() #Delete element on the last position\n",
    "mylist"
   ]
  },
  {
   "cell_type": "markdown",
   "id": "e80a313f",
   "metadata": {},
   "source": [
    "#### List Iterable"
   ]
  },
  {
   "cell_type": "code",
   "execution_count": 30,
   "id": "b0997488",
   "metadata": {},
   "outputs": [
    {
     "name": "stdout",
     "output_type": "stream",
     "text": [
      "abcd\n",
      "786\n",
      "412\n",
      "john\n"
     ]
    }
   ],
   "source": [
    "for element in mylist:\n",
    "    print(element)"
   ]
  },
  {
   "cell_type": "markdown",
   "id": "cd494527",
   "metadata": {},
   "source": [
    "## Tuple"
   ]
  },
  {
   "cell_type": "code",
   "execution_count": 31,
   "id": "c47df7bb",
   "metadata": {},
   "outputs": [
    {
     "data": {
      "text/plain": [
       "('abcd', 786, 2.23, 'john', 70.2)"
      ]
     },
     "execution_count": 31,
     "metadata": {},
     "output_type": "execute_result"
    }
   ],
   "source": [
    "mytuple = ('abcd', 786, 2.23 , 'john', 70.2)\n",
    "mytuple"
   ]
  },
  {
   "cell_type": "code",
   "execution_count": 32,
   "id": "dee5fd3e",
   "metadata": {},
   "outputs": [
    {
     "data": {
      "text/plain": [
       "'abcd'"
      ]
     },
     "execution_count": 32,
     "metadata": {},
     "output_type": "execute_result"
    }
   ],
   "source": [
    "mytuple[0]"
   ]
  },
  {
   "cell_type": "code",
   "execution_count": 34,
   "id": "77874833",
   "metadata": {},
   "outputs": [
    {
     "data": {
      "text/plain": [
       "(786, 2.23, 'john')"
      ]
     },
     "execution_count": 34,
     "metadata": {},
     "output_type": "execute_result"
    }
   ],
   "source": [
    "mytuple[1:4]"
   ]
  },
  {
   "cell_type": "code",
   "execution_count": 35,
   "id": "49777c9a",
   "metadata": {},
   "outputs": [
    {
     "data": {
      "text/plain": [
       "70.2"
      ]
     },
     "execution_count": 35,
     "metadata": {},
     "output_type": "execute_result"
    }
   ],
   "source": [
    "mytuple[-1]"
   ]
  },
  {
   "cell_type": "code",
   "execution_count": 36,
   "id": "bc636b39",
   "metadata": {},
   "outputs": [
    {
     "name": "stdout",
     "output_type": "stream",
     "text": [
      "abcd\n",
      "786\n",
      "2.23\n",
      "john\n",
      "70.2\n"
     ]
    }
   ],
   "source": [
    "for element in mytuple:\n",
    "    print(element)"
   ]
  },
  {
   "cell_type": "code",
   "execution_count": 37,
   "id": "043c4402",
   "metadata": {},
   "outputs": [
    {
     "data": {
      "text/plain": [
       "'abcd'"
      ]
     },
     "execution_count": 37,
     "metadata": {},
     "output_type": "execute_result"
    }
   ],
   "source": [
    "mytuple[0]"
   ]
  },
  {
   "cell_type": "code",
   "execution_count": 41,
   "id": "3a2acf32",
   "metadata": {},
   "outputs": [
    {
     "ename": "TypeError",
     "evalue": "'tuple' object does not support item assignment",
     "output_type": "error",
     "traceback": [
      "\u001b[1;31m---------------------------------------------------------------------------\u001b[0m",
      "\u001b[1;31mTypeError\u001b[0m                                 Traceback (most recent call last)",
      "\u001b[1;32m~\\AppData\\Local\\Temp/ipykernel_21872/3379063236.py\u001b[0m in \u001b[0;36m<module>\u001b[1;34m\u001b[0m\n\u001b[1;32m----> 1\u001b[1;33m \u001b[0mmytuple\u001b[0m\u001b[1;33m[\u001b[0m\u001b[1;36m0\u001b[0m\u001b[1;33m]\u001b[0m \u001b[1;33m=\u001b[0m \u001b[1;34m'defg'\u001b[0m\u001b[1;33m\u001b[0m\u001b[1;33m\u001b[0m\u001b[0m\n\u001b[0m",
      "\u001b[1;31mTypeError\u001b[0m: 'tuple' object does not support item assignment"
     ]
    }
   ],
   "source": [
    "mytuple[0] = 'defg'"
   ]
  },
  {
   "cell_type": "code",
   "execution_count": 43,
   "id": "2c853977",
   "metadata": {},
   "outputs": [
    {
     "data": {
      "text/plain": [
       "'1'"
      ]
     },
     "execution_count": 43,
     "metadata": {},
     "output_type": "execute_result"
    }
   ],
   "source": [
    "a = '1000012'\n",
    "a[0]"
   ]
  },
  {
   "cell_type": "code",
   "execution_count": 46,
   "id": "ce334030",
   "metadata": {},
   "outputs": [
    {
     "ename": "TypeError",
     "evalue": "'str' object does not support item assignment",
     "output_type": "error",
     "traceback": [
      "\u001b[1;31m---------------------------------------------------------------------------\u001b[0m",
      "\u001b[1;31mTypeError\u001b[0m                                 Traceback (most recent call last)",
      "\u001b[1;32m~\\AppData\\Local\\Temp/ipykernel_21872/703956532.py\u001b[0m in \u001b[0;36m<module>\u001b[1;34m\u001b[0m\n\u001b[1;32m----> 1\u001b[1;33m \u001b[0ma\u001b[0m\u001b[1;33m[\u001b[0m\u001b[1;36m0\u001b[0m\u001b[1;33m]\u001b[0m\u001b[1;33m=\u001b[0m\u001b[1;34m'2'\u001b[0m\u001b[1;33m\u001b[0m\u001b[1;33m\u001b[0m\u001b[0m\n\u001b[0m",
      "\u001b[1;31mTypeError\u001b[0m: 'str' object does not support item assignment"
     ]
    }
   ],
   "source": [
    "a[0]='2'"
   ]
  },
  {
   "cell_type": "markdown",
   "id": "22185fe7",
   "metadata": {},
   "source": [
    "## Dictionary"
   ]
  },
  {
   "cell_type": "code",
   "execution_count": 48,
   "id": "40c18f7d",
   "metadata": {},
   "outputs": [
    {
     "data": {
      "text/plain": [
       "{}"
      ]
     },
     "execution_count": 48,
     "metadata": {},
     "output_type": "execute_result"
    }
   ],
   "source": [
    "dict1 = {}\n",
    "dict1"
   ]
  },
  {
   "cell_type": "code",
   "execution_count": 56,
   "id": "8f3dce96",
   "metadata": {},
   "outputs": [
    {
     "data": {
      "text/plain": [
       "{'one': 'This is one', 2: 'This is two'}"
      ]
     },
     "execution_count": 56,
     "metadata": {},
     "output_type": "execute_result"
    }
   ],
   "source": [
    "\n",
    "dict1['one'] = \"This is one\"\n",
    "dict1[2] = \"This is two\"\n",
    "\n",
    "dict1"
   ]
  },
  {
   "cell_type": "code",
   "execution_count": 57,
   "id": "695fbc2d",
   "metadata": {},
   "outputs": [
    {
     "data": {
      "text/plain": [
       "dict_keys(['one', 2])"
      ]
     },
     "execution_count": 57,
     "metadata": {},
     "output_type": "execute_result"
    }
   ],
   "source": [
    "dict1.keys()"
   ]
  },
  {
   "cell_type": "code",
   "execution_count": 61,
   "id": "026be8e4",
   "metadata": {},
   "outputs": [
    {
     "data": {
      "text/plain": [
       "dict_values(['This is one', 'This is two'])"
      ]
     },
     "execution_count": 61,
     "metadata": {},
     "output_type": "execute_result"
    }
   ],
   "source": [
    "dict1.values()"
   ]
  },
  {
   "cell_type": "code",
   "execution_count": 60,
   "id": "d64a0ed8",
   "metadata": {},
   "outputs": [
    {
     "data": {
      "text/plain": [
       "'This is one'"
      ]
     },
     "execution_count": 60,
     "metadata": {},
     "output_type": "execute_result"
    }
   ],
   "source": [
    "dict1['one']"
   ]
  },
  {
   "cell_type": "code",
   "execution_count": 70,
   "id": "bdb8d732",
   "metadata": {},
   "outputs": [],
   "source": [
    "dict2 = {'name':['john'],\n",
    "         'age': 22,\n",
    "         'dept': ['finance', 'tech']}"
   ]
  },
  {
   "cell_type": "code",
   "execution_count": 71,
   "id": "323e5c5d",
   "metadata": {},
   "outputs": [
    {
     "data": {
      "text/plain": [
       "['john']"
      ]
     },
     "execution_count": 71,
     "metadata": {},
     "output_type": "execute_result"
    }
   ],
   "source": [
    "dict2['name']"
   ]
  },
  {
   "cell_type": "code",
   "execution_count": 72,
   "id": "9c2f07e3",
   "metadata": {},
   "outputs": [
    {
     "data": {
      "text/plain": [
       "22"
      ]
     },
     "execution_count": 72,
     "metadata": {},
     "output_type": "execute_result"
    }
   ],
   "source": [
    "dict2['age']"
   ]
  },
  {
   "cell_type": "code",
   "execution_count": 73,
   "id": "afb58fe1",
   "metadata": {},
   "outputs": [],
   "source": [
    "dict2['age'] = 32"
   ]
  },
  {
   "cell_type": "code",
   "execution_count": 75,
   "id": "9df2a4db",
   "metadata": {},
   "outputs": [
    {
     "data": {
      "text/plain": [
       "32"
      ]
     },
     "execution_count": 75,
     "metadata": {},
     "output_type": "execute_result"
    }
   ],
   "source": [
    "dict2['age']"
   ]
  },
  {
   "cell_type": "code",
   "execution_count": 76,
   "id": "e355aa6e",
   "metadata": {},
   "outputs": [
    {
     "name": "stdout",
     "output_type": "stream",
     "text": [
      "{1, 2, 3, 4, 5}\n"
     ]
    }
   ],
   "source": [
    "setA = {1,2,1,3,4,1,2,2,5}\n",
    "print(setA)"
   ]
  },
  {
   "cell_type": "code",
   "execution_count": 77,
   "id": "00139c8c",
   "metadata": {},
   "outputs": [],
   "source": [
    "list2 = [10,20,32,32,14,15,15,26,28,26,31]"
   ]
  },
  {
   "cell_type": "code",
   "execution_count": 90,
   "id": "d9237f31",
   "metadata": {},
   "outputs": [
    {
     "data": {
      "text/plain": [
       "[10, 20, 32, 32, 14, 15, 15, 26, 28, 26, 31]"
      ]
     },
     "execution_count": 90,
     "metadata": {},
     "output_type": "execute_result"
    }
   ],
   "source": [
    "list2"
   ]
  },
  {
   "cell_type": "code",
   "execution_count": 86,
   "id": "beb1d584",
   "metadata": {},
   "outputs": [],
   "source": [
    "list2_not_duplicate = set(list2)"
   ]
  },
  {
   "cell_type": "code",
   "execution_count": 87,
   "id": "fb88d1cd",
   "metadata": {},
   "outputs": [
    {
     "data": {
      "text/plain": [
       "{10, 14, 15, 20, 26, 28, 31, 32}"
      ]
     },
     "execution_count": 87,
     "metadata": {},
     "output_type": "execute_result"
    }
   ],
   "source": [
    "list2_not_duplicate"
   ]
  },
  {
   "cell_type": "code",
   "execution_count": 88,
   "id": "53b322c1",
   "metadata": {},
   "outputs": [],
   "source": [
    "list3 = list(list2_not_duplicate)"
   ]
  },
  {
   "cell_type": "code",
   "execution_count": 89,
   "id": "28ae2ab7",
   "metadata": {},
   "outputs": [
    {
     "data": {
      "text/plain": [
       "[32, 10, 14, 15, 20, 26, 28, 31]"
      ]
     },
     "execution_count": 89,
     "metadata": {},
     "output_type": "execute_result"
    }
   ],
   "source": [
    "list3"
   ]
  },
  {
   "cell_type": "code",
   "execution_count": 91,
   "id": "70dbfc86",
   "metadata": {},
   "outputs": [],
   "source": [
    "setA = {'a', 2}"
   ]
  },
  {
   "cell_type": "markdown",
   "id": "6e39494e",
   "metadata": {},
   "source": [
    "## Primitive Type Conversion"
   ]
  },
  {
   "cell_type": "code",
   "execution_count": 99,
   "id": "27731991",
   "metadata": {},
   "outputs": [
    {
     "data": {
      "text/plain": [
       "100001"
      ]
     },
     "execution_count": 99,
     "metadata": {},
     "output_type": "execute_result"
    }
   ],
   "source": [
    "angka1 = '100001'\n",
    "int(angka1)"
   ]
  },
  {
   "cell_type": "code",
   "execution_count": 109,
   "id": "487469f8",
   "metadata": {},
   "outputs": [
    {
     "name": "stdout",
     "output_type": "stream",
     "text": [
      "2.9 <class 'float'>\n"
     ]
    }
   ],
   "source": [
    "x = 2.9\n",
    "print(x, type(x))"
   ]
  },
  {
   "cell_type": "code",
   "execution_count": 119,
   "id": "63645491",
   "metadata": {},
   "outputs": [
    {
     "name": "stdout",
     "output_type": "stream",
     "text": [
      "1231 <class 'int'>\n"
     ]
    }
   ],
   "source": [
    "#Float to integer\n",
    "y = int(x)\n",
    "print(y, type(y))"
   ]
  },
  {
   "cell_type": "code",
   "execution_count": 121,
   "id": "8f9343e8",
   "metadata": {},
   "outputs": [
    {
     "name": "stdout",
     "output_type": "stream",
     "text": [
      "False <class 'bool'>\n"
     ]
    }
   ],
   "source": [
    "#Integerr to Boolean\n",
    "x = 0\n",
    "y = bool(x)\n",
    "print(y, type(y))"
   ]
  },
  {
   "cell_type": "code",
   "execution_count": 124,
   "id": "6a5d4972",
   "metadata": {},
   "outputs": [
    {
     "name": "stdout",
     "output_type": "stream",
     "text": [
      "100001 <class 'int'>\n"
     ]
    }
   ],
   "source": [
    "#String to integer\n",
    "angka1 = '100001'\n",
    "y = int(angka1)\n",
    "print(y, type(y))"
   ]
  },
  {
   "cell_type": "code",
   "execution_count": 129,
   "id": "ae7d2cc9",
   "metadata": {},
   "outputs": [
    {
     "name": "stdout",
     "output_type": "stream",
     "text": [
      "123.2 <class 'float'>\n"
     ]
    }
   ],
   "source": [
    "#String to float\n",
    "angka1 = '123.2'\n",
    "y = float(angka1)\n",
    "print(y, type(y))"
   ]
  },
  {
   "cell_type": "code",
   "execution_count": 131,
   "id": "359ad219",
   "metadata": {},
   "outputs": [
    {
     "name": "stdout",
     "output_type": "stream",
     "text": [
      "False <class 'str'>\n"
     ]
    }
   ],
   "source": [
    "#Boolean to String\n",
    "boolean1 = False\n",
    "y = str(boolean1) #\"False\"\n",
    "print(y, type(y)) "
   ]
  },
  {
   "cell_type": "markdown",
   "id": "9608fbf4",
   "metadata": {},
   "source": [
    "## Non-Primitive Type Conversion"
   ]
  },
  {
   "cell_type": "markdown",
   "id": "b34075b2",
   "metadata": {},
   "source": [
    "##### List to Tuple"
   ]
  },
  {
   "cell_type": "code",
   "execution_count": 137,
   "id": "2984ebea",
   "metadata": {},
   "outputs": [
    {
     "name": "stdout",
     "output_type": "stream",
     "text": [
      "['satu', 2, 'tiga', 4.4] <class 'list'>\n"
     ]
    }
   ],
   "source": [
    "list1 = ['satu', 2, 'tiga', 4.4]\n",
    "print(list1, type(list1))"
   ]
  },
  {
   "cell_type": "code",
   "execution_count": 138,
   "id": "bb03b2af",
   "metadata": {},
   "outputs": [
    {
     "name": "stdout",
     "output_type": "stream",
     "text": [
      "('satu', 2, 'tiga', 4.4) <class 'tuple'>\n"
     ]
    }
   ],
   "source": [
    "tuple_list1 = tuple(list1)\n",
    "print(tuple_list1, type(tuple_list1))"
   ]
  },
  {
   "cell_type": "markdown",
   "id": "adcd6fb5",
   "metadata": {},
   "source": [
    "##### List to set"
   ]
  },
  {
   "cell_type": "code",
   "execution_count": 139,
   "id": "c7b91b18",
   "metadata": {},
   "outputs": [
    {
     "name": "stdout",
     "output_type": "stream",
     "text": [
      "[10, 20, 32, 32, 14, 15, 15, 26, 28, 26, 31] <class 'list'>\n"
     ]
    }
   ],
   "source": [
    "list2 = [10,20,32,32,14,15,15,26,28,26,31]\n",
    "print(list2, type(list2))"
   ]
  },
  {
   "cell_type": "code",
   "execution_count": 140,
   "id": "5fe3e27c",
   "metadata": {},
   "outputs": [
    {
     "name": "stdout",
     "output_type": "stream",
     "text": [
      "{32, 10, 14, 15, 20, 26, 28, 31} <class 'set'>\n"
     ]
    }
   ],
   "source": [
    "set_list2 = set(list2)\n",
    "print(set_list2, type(set_list2))"
   ]
  },
  {
   "cell_type": "markdown",
   "id": "bac8c24f",
   "metadata": {},
   "source": [
    "##### Tuple to list"
   ]
  },
  {
   "cell_type": "code",
   "execution_count": 142,
   "id": "2837c683",
   "metadata": {},
   "outputs": [
    {
     "name": "stdout",
     "output_type": "stream",
     "text": [
      "(1, 'dua', 'tiga', 4, 5) <class 'tuple'>\n"
     ]
    }
   ],
   "source": [
    "tuple1 = (1, 'dua', 'tiga', 4, 5)\n",
    "print(tuple1, type(tuple1))"
   ]
  },
  {
   "cell_type": "code",
   "execution_count": 143,
   "id": "e20da229",
   "metadata": {},
   "outputs": [
    {
     "ename": "TypeError",
     "evalue": "'tuple' object does not support item assignment",
     "output_type": "error",
     "traceback": [
      "\u001b[1;31m---------------------------------------------------------------------------\u001b[0m",
      "\u001b[1;31mTypeError\u001b[0m                                 Traceback (most recent call last)",
      "\u001b[1;32m~\\AppData\\Local\\Temp/ipykernel_21872/3290047147.py\u001b[0m in \u001b[0;36m<module>\u001b[1;34m\u001b[0m\n\u001b[1;32m----> 1\u001b[1;33m \u001b[0mtuple1\u001b[0m\u001b[1;33m[\u001b[0m\u001b[1;36m2\u001b[0m\u001b[1;33m]\u001b[0m\u001b[1;33m=\u001b[0m\u001b[1;36m23\u001b[0m\u001b[1;33m\u001b[0m\u001b[1;33m\u001b[0m\u001b[0m\n\u001b[0m",
      "\u001b[1;31mTypeError\u001b[0m: 'tuple' object does not support item assignment"
     ]
    }
   ],
   "source": [
    "tuple1[2]=23"
   ]
  },
  {
   "cell_type": "code",
   "execution_count": 144,
   "id": "ae2153e8",
   "metadata": {},
   "outputs": [
    {
     "name": "stdout",
     "output_type": "stream",
     "text": [
      "[1, 'dua', 'tiga', 4, 5] <class 'list'>\n"
     ]
    }
   ],
   "source": [
    "list_tuple1 = list(tuple1)\n",
    "print(list_tuple1, type(list_tuple1))"
   ]
  },
  {
   "cell_type": "code",
   "execution_count": 145,
   "id": "55fd1205",
   "metadata": {},
   "outputs": [],
   "source": [
    "list_tuple1[2]=23"
   ]
  },
  {
   "cell_type": "code",
   "execution_count": 146,
   "id": "ff061730",
   "metadata": {},
   "outputs": [
    {
     "data": {
      "text/plain": [
       "[1, 'dua', 23, 4, 5]"
      ]
     },
     "execution_count": 146,
     "metadata": {},
     "output_type": "execute_result"
    }
   ],
   "source": [
    "list_tuple1"
   ]
  },
  {
   "cell_type": "markdown",
   "id": "71c48378",
   "metadata": {},
   "source": [
    "##### List to Dictionary"
   ]
  },
  {
   "cell_type": "code",
   "execution_count": 148,
   "id": "43c1a948",
   "metadata": {},
   "outputs": [
    {
     "name": "stdout",
     "output_type": "stream",
     "text": [
      "[['name', 'johm'], ['age', 22], ['city', 'delhi']] <class 'list'>\n"
     ]
    }
   ],
   "source": [
    "x = [['name', 'johm'], ['age', 22], ['city', 'delhi']]\n",
    "print(x, type(x))"
   ]
  },
  {
   "cell_type": "code",
   "execution_count": 149,
   "id": "7584e1a7",
   "metadata": {},
   "outputs": [
    {
     "name": "stdout",
     "output_type": "stream",
     "text": [
      "{'name': 'johm', 'age': 22, 'city': 'delhi'} <class 'dict'>\n"
     ]
    }
   ],
   "source": [
    "y = dict(x)\n",
    "print(y, type(y))"
   ]
  },
  {
   "cell_type": "markdown",
   "id": "1d46d164",
   "metadata": {},
   "source": [
    "## Module Practice"
   ]
  },
  {
   "cell_type": "code",
   "execution_count": null,
   "id": "7c583274",
   "metadata": {},
   "outputs": [],
   "source": []
  }
 ],
 "metadata": {
  "kernelspec": {
   "display_name": "Python 3 (ipykernel)",
   "language": "python",
   "name": "python3"
  },
  "language_info": {
   "codemirror_mode": {
    "name": "ipython",
    "version": 3
   },
   "file_extension": ".py",
   "mimetype": "text/x-python",
   "name": "python",
   "nbconvert_exporter": "python",
   "pygments_lexer": "ipython3",
   "version": "3.9.7"
  }
 },
 "nbformat": 4,
 "nbformat_minor": 5
}
